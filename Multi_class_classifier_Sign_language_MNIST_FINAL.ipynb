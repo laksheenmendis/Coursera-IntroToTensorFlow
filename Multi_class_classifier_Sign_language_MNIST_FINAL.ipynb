{
  "nbformat": 4,
  "nbformat_minor": 0,
  "metadata": {
    "colab": {
      "name": "Multi_class_classifier_Sign_language_MNIST-FINAL.ipynb",
      "provenance": [],
      "collapsed_sections": [],
      "include_colab_link": true
    },
    "coursera": {
      "course_slug": "convolutional-neural-networks-tensorflow",
      "graded_item_id": "8mIh8",
      "launcher_item_id": "gg95t"
    },
    "kernelspec": {
      "display_name": "Python 3",
      "language": "python",
      "name": "python3"
    },
    "language_info": {
      "codemirror_mode": {
        "name": "ipython",
        "version": 3
      },
      "file_extension": ".py",
      "mimetype": "text/x-python",
      "name": "python",
      "nbconvert_exporter": "python",
      "pygments_lexer": "ipython3",
      "version": "3.6.8"
    }
  },
  "cells": [
    {
      "cell_type": "markdown",
      "metadata": {
        "id": "view-in-github",
        "colab_type": "text"
      },
      "source": [
        "<a href=\"https://colab.research.google.com/github/laksheenmendis/Coursera-TensorFlow/blob/master/Multi_class_classifier_Sign_language_MNIST_FINAL.ipynb\" target=\"_parent\"><img src=\"https://colab.research.google.com/assets/colab-badge.svg\" alt=\"Open In Colab\"/></a>"
      ]
    },
    {
      "cell_type": "code",
      "metadata": {
        "colab_type": "code",
        "id": "wYtuKeK0dImp",
        "colab": {}
      },
      "source": [
        "import csv\n",
        "import numpy as np\n",
        "import tensorflow as tf\n",
        "from tensorflow.keras.preprocessing.image import ImageDataGenerator\n",
        "from os import getcwd"
      ],
      "execution_count": 0,
      "outputs": []
    },
    {
      "cell_type": "code",
      "metadata": {
        "colab_type": "code",
        "id": "4kxw-_rmcnVu",
        "colab": {},
        "outputId": "11c024cd-755b-4cd5-dd88-f75c2ce9b837"
      },
      "source": [
        "# Data for this could be downloaded from https://www.kaggle.com/datamunge/sign-language-mnist\n",
        "\n",
        "def get_data(filename):\n",
        "  # You will need to write code that will read the file passed\n",
        "  # into this function. The first line contains the column headers\n",
        "  # so you should ignore it\n",
        "  # Each successive line contians 785 comma separated values between 0 and 255\n",
        "  # The first value is the label\n",
        "  # The rest are the pixel values for that picture\n",
        "  # The function will return 2 np.array types. One with all the labels\n",
        "  # One with all the images\n",
        "  #\n",
        "  # Tips: \n",
        "  # If you read a full line (as 'row') then row[0] has the label\n",
        "  # and row[1:785] has the 784 pixel values\n",
        "  # Take a look at np.array_split to turn the 784 pixels into 28x28\n",
        "  # You are reading in strings, but need the values to be floats\n",
        "  # Check out np.array().astype for a conversion\n",
        "    with open(filename) as training_file:\n",
        "        readCSV = csv.reader(training_file, delimiter=',' )\n",
        "        i=0\n",
        "        img=[]\n",
        "        lab=[]\n",
        "        for row in readCSV:\n",
        "            if(i==0):\n",
        "                i = i + 1\n",
        "            else:\n",
        "                lab.append(row[0])\n",
        "                img_data=row[1:785]\n",
        "                img_data2 = np.array_split(img_data, 28)\n",
        "                img.append(img_data2)\n",
        "        \n",
        "    images = np.array(img).astype('float')\n",
        "    labels = np.array(lab).astype('float')\n",
        "    return images, labels\n",
        "\n",
        "path_sign_mnist_train = f\"{getcwd()}/../tmp2/sign_mnist_train.csv\"\n",
        "path_sign_mnist_test = f\"{getcwd()}/../tmp2/sign_mnist_test.csv\"\n",
        "training_images, training_labels = get_data(path_sign_mnist_train)\n",
        "testing_images, testing_labels = get_data(path_sign_mnist_test)\n",
        "\n",
        "# Keep these\n",
        "print(training_images.shape)\n",
        "print(training_labels.shape)\n",
        "print(testing_images.shape)\n",
        "print(testing_labels.shape)\n",
        "\n",
        "# Their output should be:\n",
        "# (27455, 28, 28)\n",
        "# (27455,)\n",
        "# (7172, 28, 28)\n",
        "# (7172,)"
      ],
      "execution_count": 0,
      "outputs": [
        {
          "output_type": "stream",
          "text": [
            "(27455, 28, 28)\n",
            "(27455,)\n",
            "(7172, 28, 28)\n",
            "(7172,)\n"
          ],
          "name": "stdout"
        }
      ]
    },
    {
      "cell_type": "code",
      "metadata": {
        "colab_type": "code",
        "id": "awoqRpyZdQkD",
        "colab": {},
        "outputId": "b2fcbfec-4dd6-403e-e8b0-37a785d2f747"
      },
      "source": [
        "# In this section you will have to add another dimension to the data\n",
        "# So, for example, if your array is (10000, 28, 28)\n",
        "# You will need to make it (10000, 28, 28, 1)\n",
        "# Hint: np.expand_dims\n",
        "\n",
        "training_images = np.expand_dims(training_images, axis=3)\n",
        "testing_images = np.expand_dims(testing_images, axis=3)\n",
        "\n",
        "# Create an ImageDataGenerator and do Image Augmentation\n",
        "train_datagen = ImageDataGenerator(\n",
        "        rescale=1/255,\n",
        "        width_shift_range=0.2,\n",
        "        height_shift_range=0.2,\n",
        "        zoom_range=0.2,\n",
        "        shear_range=0.2,\n",
        "        rotation_range=40,\n",
        "        horizontal_flip=True,\n",
        "        fill_mode='nearest'\n",
        "    )\n",
        "\n",
        "validation_datagen = ImageDataGenerator(\n",
        "        rescale=1/255,\n",
        "        width_shift_range=0.2,\n",
        "        height_shift_range=0.2,\n",
        "        zoom_range=0.2,\n",
        "        shear_range=0.2,\n",
        "        rotation_range=40,\n",
        "        horizontal_flip=True,\n",
        "        fill_mode='nearest'\n",
        ")\n",
        "    \n",
        "# Keep These\n",
        "print(training_images.shape)\n",
        "print(testing_images.shape)\n",
        "    \n",
        "# Their output should be:\n",
        "# (27455, 28, 28, 1)\n",
        "# (7172, 28, 28, 1)"
      ],
      "execution_count": 0,
      "outputs": [
        {
          "output_type": "stream",
          "text": [
            "(27455, 28, 28, 1)\n",
            "(7172, 28, 28, 1)\n"
          ],
          "name": "stdout"
        }
      ]
    },
    {
      "cell_type": "code",
      "metadata": {
        "colab_type": "code",
        "id": "Rmb7S32cgRqS",
        "colab": {},
        "outputId": "8717e01d-dc0e-4f2f-dde3-f0b75a30a4df"
      },
      "source": [
        "# Define the model\n",
        "# Use no more than 2 Conv2D and 2 MaxPooling2D\n",
        "model = tf.keras.models.Sequential([\n",
        "        tf.keras.layers.Conv2D(16,(3,3),input_shape=(28,28,1),activation='relu'),\n",
        "        tf.keras.layers.MaxPooling2D(2,2),\n",
        "        tf.keras.layers.Conv2D(32,(3,3),activation='relu'),\n",
        "        tf.keras.layers.MaxPooling2D(2,2),\n",
        "        tf.keras.layers.Flatten(),\n",
        "        tf.keras.layers.Dense(500,activation='relu'),\n",
        "        tf.keras.layers.Dense(26,activation='softmax')\n",
        "])\n",
        "\n",
        "training_generator = train_datagen.flow(training_images, training_labels, batch_size=32)\n",
        "validation_generator = validation_datagen.flow(testing_images, testing_labels, batch_size=32)\n",
        "    \n",
        "# Compile Model. \n",
        "model.compile(optimizer='rmsprop', metrics=['accuracy'],\n",
        "              loss = 'sparse_categorical_crossentropy')\n",
        "\n",
        "# Train the Model\n",
        "history = model.fit_generator(training_generator, epochs = 10, validation_data=validation_generator)\n",
        "\n",
        "model.evaluate(testing_images, testing_labels, verbose=0)"
      ],
      "execution_count": 0,
      "outputs": [
        {
          "output_type": "stream",
          "text": [
            "Epoch 1/10\n",
            "858/858 [==============================] - 112s 130ms/step - loss: 2.6589 - accuracy: 0.1938 - val_loss: 2.2652 - val_accuracy: 0.2893\n",
            "Epoch 2/10\n",
            "858/858 [==============================] - 108s 126ms/step - loss: 1.9598 - accuracy: 0.3853 - val_loss: 1.9728 - val_accuracy: 0.3606\n",
            "Epoch 3/10\n",
            "858/858 [==============================] - 108s 125ms/step - loss: 1.5404 - accuracy: 0.5033 - val_loss: 1.4040 - val_accuracy: 0.5282\n",
            "Epoch 4/10\n",
            "858/858 [==============================] - 109s 127ms/step - loss: 1.2657 - accuracy: 0.5889 - val_loss: 1.2072 - val_accuracy: 0.5954\n",
            "Epoch 5/10\n",
            "858/858 [==============================] - 109s 128ms/step - loss: 1.0673 - accuracy: 0.6519 - val_loss: 1.0355 - val_accuracy: 0.6511\n",
            "Epoch 6/10\n",
            "858/858 [==============================] - 109s 127ms/step - loss: 0.9172 - accuracy: 0.7030 - val_loss: 1.0967 - val_accuracy: 0.6340\n",
            "Epoch 7/10\n",
            "858/858 [==============================] - 108s 126ms/step - loss: 0.8135 - accuracy: 0.7319 - val_loss: 0.9157 - val_accuracy: 0.6898\n",
            "Epoch 8/10\n",
            "858/858 [==============================] - 108s 126ms/step - loss: 0.7199 - accuracy: 0.7610 - val_loss: 0.8129 - val_accuracy: 0.7338\n",
            "Epoch 9/10\n",
            "858/858 [==============================] - 110s 128ms/step - loss: 0.6617 - accuracy: 0.7847 - val_loss: 0.7171 - val_accuracy: 0.7585\n",
            "Epoch 10/10\n",
            "858/858 [==============================] - 108s 126ms/step - loss: 0.5964 - accuracy: 0.8027 - val_loss: 0.7200 - val_accuracy: 0.7607\n"
          ],
          "name": "stdout"
        },
        {
          "output_type": "execute_result",
          "data": {
            "text/plain": [
              "[157.28364686386186, 0.71737313]"
            ]
          },
          "metadata": {
            "tags": []
          },
          "execution_count": 4
        }
      ]
    },
    {
      "cell_type": "code",
      "metadata": {
        "colab_type": "code",
        "id": "_Q3Zpr46dsij",
        "colab": {},
        "outputId": "3e656c7c-49ed-4038-aa05-e7794c712e69"
      },
      "source": [
        "# Plot the chart for accuracy and loss on both training and validation\n",
        "%matplotlib inline\n",
        "import matplotlib.pyplot as plt\n",
        "\n",
        "acc = history.history['accuracy']\n",
        "val_acc = history.history['val_accuracy']\n",
        "loss = history.history['loss']\n",
        "val_loss = history.history['val_loss']\n",
        "\n",
        "epochs = range(len(acc))\n",
        "\n",
        "plt.plot(epochs, acc, 'r', label='Training accuracy')\n",
        "plt.plot(epochs, val_acc, 'b', label='Validation accuracy')\n",
        "plt.title('Training and validation accuracy')\n",
        "plt.legend()\n",
        "plt.figure()\n",
        "\n",
        "plt.plot(epochs, loss, 'r', label='Training Loss')\n",
        "plt.plot(epochs, val_loss, 'b', label='Validation Loss')\n",
        "plt.title('Training and validation loss')\n",
        "plt.legend()\n",
        "\n",
        "plt.show()"
      ],
      "execution_count": 0,
      "outputs": [
        {
          "output_type": "display_data",
          "data": {
            "image/png": "[encoded data removed]",
            "text/plain": [
              "<Figure size 432x288 with 1 Axes>"
            ]
          },
          "metadata": {
            "tags": [],
            "needs_background": "light"
          }
        },
        {
          "output_type": "display_data",
          "data": {
            "image/png": "[encoded data removed]",
            "text/plain": [
              "<Figure size 432x288 with 1 Axes>"
            ]
          },
          "metadata": {
            "tags": [],
            "needs_background": "light"
          }
        }
      ]
    },
    {
      "cell_type": "code",
      "metadata": {
        "id": "GxXE9_rqOGMK",
        "colab_type": "code",
        "colab": {}
      },
      "source": [
        "# Now click the 'Submit Assignment' button above.\n",
        "# Once that is complete, please run the following two cells to save your work and close the notebook"
      ],
      "execution_count": 0,
      "outputs": []
    },
    {
      "cell_type": "code",
      "metadata": {
        "id": "pBRDfoRvOGMS",
        "colab_type": "code",
        "colab": {}
      },
      "source": [
        "# // %%javascript\n",
        "# // <!-- Save the notebook -->\n",
        "# // IPython.notebook.save_checkpoint();"
      ],
      "execution_count": 0,
      "outputs": []
    },
    {
      "cell_type": "code",
      "metadata": {
        "id": "fxFZQSmZOGMX",
        "colab_type": "code",
        "colab": {}
      },
      "source": [
        "# // %%javascript\n",
        "# // IPython.notebook.session.delete();\n",
        "# // window.onbeforeunload = null\n",
        "# // setTimeout(function() { window.close(); }, 1000);"
      ],
      "execution_count": 0,
      "outputs": []
    }
  ]
}