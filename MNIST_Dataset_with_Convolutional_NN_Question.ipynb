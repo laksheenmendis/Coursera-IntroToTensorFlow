{
  "nbformat": 4,
  "nbformat_minor": 0,
  "metadata": {
    "coursera": {
      "course_slug": "introduction-tensorflow",
      "graded_item_id": "ml06H",
      "launcher_item_id": "hQF8A"
    },
    "kernelspec": {
      "display_name": "Python 3",
      "language": "python",
      "name": "python3"
    },
    "language_info": {
      "codemirror_mode": {
        "name": "ipython",
        "version": 3
      },
      "file_extension": ".py",
      "mimetype": "text/x-python",
      "name": "python",
      "nbconvert_exporter": "python",
      "pygments_lexer": "ipython3",
      "version": "3.6.8"
    },
    "colab": {
      "name": "utf-8''Excercise-3-Question.ipynb",
      "provenance": [],
      "include_colab_link": true
    }
  },
  "cells": [
    {
      "cell_type": "markdown",
      "metadata": {
        "id": "view-in-github",
        "colab_type": "text"
      },
      "source": [
        "<a href=\"https://colab.research.google.com/github/laksheenmendis/Coursera-IntroToTensorFlow/blob/master/MNIST_Dataset_with_Convolutional_NN_Question.ipynb\" target=\"_parent\"><img src=\"https://colab.research.google.com/assets/colab-badge.svg\" alt=\"Open In Colab\"/></a>"
      ]
    },
    {
      "cell_type": "markdown",
      "metadata": {
        "colab_type": "text",
        "id": "iQjHqsmTAVLU"
      },
      "source": [
        "## Exercise 3\n",
        "In the videos you looked at how you would improve Fashion MNIST using Convolutions. For your exercise see if you can improve MNIST to 99.8% accuracy or more using only a single convolutional layer and a single MaxPooling 2D. You should stop training once the accuracy goes above this amount. It should happen in less than 20 epochs, so it's ok to hard code the number of epochs for training, but your training must end once it hits the above metric. If it doesn't, then you'll need to redesign your layers.\n",
        "\n",
        "I've started the code for you -- you need to finish it!\n",
        "\n",
        "When 99.8% accuracy has been hit, you should print out the string \"Reached 99.8% accuracy so cancelling training!\"\n"
      ]
    },
    {
      "cell_type": "code",
      "metadata": {
        "id": "50d107FAY_Yq",
        "colab_type": "code",
        "colab": {}
      },
      "source": [
        "import tensorflow as tf\n",
        "from os import path, getcwd, chdir\n",
        "\n",
        "# DO NOT CHANGE THE LINE BELOW. If you are developing in a local\n",
        "# environment, then grab mnist.npz from the Coursera Jupyter Notebook\n",
        "# and place it inside a local folder and edit the path to that location\n",
        "path = f\"{getcwd()}/../tmp2/mnist.npz\""
      ],
      "execution_count": 0,
      "outputs": []
    },
    {
      "cell_type": "code",
      "metadata": {
        "id": "xLSvjpBlY_Yy",
        "colab_type": "code",
        "colab": {}
      },
      "source": [
        "config = tf.ConfigProto()\n",
        "config.gpu_options.allow_growth = True\n",
        "sess = tf.Session(config=config)"
      ],
      "execution_count": 0,
      "outputs": []
    },
    {
      "cell_type": "code",
      "metadata": {
        "id": "7rHBzgX_Y_Y5",
        "colab_type": "code",
        "colab": {},
        "outputId": "e0064e02-78aa-403e-a49d-5c8a2550fe8b"
      },
      "source": [
        "(t1,t2),(t3,t4)=tf.keras.datasets.mnist.load_data(path=path)\n",
        "print(t1.size)\n",
        "print(t3.size)\n",
        "print(t1.shape)\n",
        "print(t3.shape)"
      ],
      "execution_count": 0,
      "outputs": [
        {
          "output_type": "stream",
          "text": [
            "47040000\n",
            "7840000\n",
            "(60000, 28, 28)\n",
            "(10000, 28, 28)\n"
          ],
          "name": "stdout"
        }
      ]
    },
    {
      "cell_type": "code",
      "metadata": {
        "id": "TmeI9_oWY_Y_",
        "colab_type": "code",
        "colab": {}
      },
      "source": [
        "# GRADED FUNCTION: train_mnist_conv\n",
        "def train_mnist_conv():\n",
        "    # Please write your code only where you are indicated.\n",
        "    # please do not remove model fitting inline comments.\n",
        "\n",
        "    # YOUR CODE STARTS HERE\n",
        "    class myCallback(tf.keras.callbacks.Callback):\n",
        "        def on_epoch_end(self, epoch, logs={}):\n",
        "            if(logs.get('acc')>0.998):\n",
        "                print(\"\\nReached 99.8% accuracy so cancelling training!\")\n",
        "                self.model.stop_training=True\n",
        "                \n",
        "    callback = myCallback()\n",
        "    # YOUR CODE ENDS HERE\n",
        "\n",
        "    mnist = tf.keras.datasets.mnist\n",
        "    (training_images, training_labels), (test_images, test_labels) = mnist.load_data(path=path)\n",
        "    # YOUR CODE STARTS HERE\n",
        "    training_images = training_images.reshape(60000,28,28,1)\n",
        "    training_images = training_images/255.0\n",
        "    test_images = test_images.reshape(10000,28,28,1)\n",
        "    test_images = test_images/255.0\n",
        "    # YOUR CODE ENDS HERE\n",
        "\n",
        "    model = tf.keras.models.Sequential([\n",
        "            tf.keras.layers.Conv2D(32,(3,3),activation='relu',input_shape=(28,28,1)),\n",
        "            tf.keras.layers.MaxPooling2D(2,2),\n",
        "            tf.keras.layers.Flatten(),\n",
        "            tf.keras.layers.Dense(128, activation='relu'),\n",
        "            tf.keras.layers.Dense(10, activation='softmax')\n",
        "    ])\n",
        "\n",
        "    model.compile(optimizer='adam', loss='sparse_categorical_crossentropy', metrics=['accuracy'])\n",
        "    # model fitting\n",
        "    history = model.fit(training_images, training_labels, epochs=20, callbacks=[callback])\n",
        "    # model fitting\n",
        "    return history.epoch, history.history['acc'][-1]\n",
        "\n"
      ],
      "execution_count": 0,
      "outputs": []
    },
    {
      "cell_type": "code",
      "metadata": {
        "id": "R5bB03-JY_ZE",
        "colab_type": "code",
        "colab": {},
        "outputId": "594c9136-4657-415b-bf9e-3be2eb7da415"
      },
      "source": [
        "_, _ = train_mnist_conv()"
      ],
      "execution_count": 0,
      "outputs": [
        {
          "output_type": "stream",
          "text": [
            "Epoch 1/20\n",
            "60000/60000 [==============================] - 19s 317us/sample - loss: 0.1615 - acc: 0.9508\n",
            "Epoch 2/20\n",
            "60000/60000 [==============================] - 19s 315us/sample - loss: 0.0544 - acc: 0.9832\n",
            "Epoch 3/20\n",
            "60000/60000 [==============================] - 19s 314us/sample - loss: 0.0352 - acc: 0.9893\n",
            "Epoch 4/20\n",
            "60000/60000 [==============================] - 19s 315us/sample - loss: 0.0230 - acc: 0.9925\n",
            "Epoch 5/20\n",
            "60000/60000 [==============================] - 19s 315us/sample - loss: 0.0157 - acc: 0.9950\n",
            "Epoch 6/20\n",
            "60000/60000 [==============================] - 19s 313us/sample - loss: 0.0119 - acc: 0.9962\n",
            "Epoch 7/20\n",
            "60000/60000 [==============================] - 19s 318us/sample - loss: 0.0092 - acc: 0.9968\n",
            "Epoch 8/20\n",
            "60000/60000 [==============================] - 19s 317us/sample - loss: 0.0064 - acc: 0.9978\n",
            "Epoch 9/20\n",
            "60000/60000 [==============================] - 19s 313us/sample - loss: 0.0078 - acc: 0.9974\n",
            "Epoch 10/20\n",
            "59776/60000 [============================>.] - ETA: 0s - loss: 0.0037 - acc: 0.9987\n",
            "Reached 99.8% accuracy so cancelling training!\n",
            "60000/60000 [==============================] - 19s 312us/sample - loss: 0.0037 - acc: 0.9987\n"
          ],
          "name": "stdout"
        }
      ]
    },
    {
      "cell_type": "code",
      "metadata": {
        "id": "VNeKaknBY_ZJ",
        "colab_type": "code",
        "colab": {}
      },
      "source": [
        "# Now click the 'Submit Assignment' button above.\n",
        "# Once that is complete, please run the following two cells to save your work and close the notebook"
      ],
      "execution_count": 0,
      "outputs": []
    },
    {
      "cell_type": "code",
      "metadata": {
        "id": "WyM0Vdy8Y_ZO",
        "colab_type": "code",
        "colab": {},
        "outputId": "23dd5629-48cc-4894-824c-3a406fe48393"
      },
      "source": [
        "# // %%javascript\n",
        "# // <!-- Save the notebook -->\n",
        "# // IPython.notebook.save_checkpoint();"
      ],
      "execution_count": 0,
      "outputs": [
        {
          "output_type": "display_data",
          "data": {
            "application/javascript": [
              "<!-- Save the notebook -->\n",
              "IPython.notebook.save_checkpoint();\n"
            ],
            "text/plain": [
              "<IPython.core.display.Javascript object>"
            ]
          },
          "metadata": {
            "tags": []
          }
        }
      ]
    },
    {
      "cell_type": "code",
      "metadata": {
        "id": "tmOPRqmFY_ZS",
        "colab_type": "code",
        "colab": {}
      },
      "source": [
        "# // %%javascript\n",
        "# // IPython.notebook.session.delete();\n",
        "# // window.onbeforeunload = null\n",
        "# // setTimeout(function() { window.close(); }, 1000);"
      ],
      "execution_count": 0,
      "outputs": []
    }
  ]
}